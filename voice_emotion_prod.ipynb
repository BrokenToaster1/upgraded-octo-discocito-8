{
 "cells": [
  {
   "cell_type": "code",
   "execution_count": 1,
   "metadata": {
    "collapsed": true
   },
   "outputs": [],
   "source": [
    "import numpy as np"
   ]
  },
  {
   "cell_type": "code",
   "execution_count": 17,
   "metadata": {
    "collapsed": true
   },
   "outputs": [],
   "source": [
    "def get_emotion(text, model):\n",
    "    \"\"\" Returns a number that describes the emotion of the input text. \n",
    "    \n",
    "        Parameters\n",
    "        ----------\n",
    "        text : string\n",
    "            string representation of the user's spoken words\n",
    "        \n",
    "        model : function\n",
    "            returns the probabilities of sadness and happiness\n",
    "            \n",
    "        Returns\n",
    "        -------\n",
    "        0 if the input text's emotion is sad. 1 if the input text's \n",
    "        emotion is happy. \"\"\"\n",
    "    \n",
    "    return np.argmax(model(text))"
   ]
  },
  {
   "cell_type": "code",
   "execution_count": null,
   "metadata": {
    "collapsed": true
   },
   "outputs": [],
   "source": []
  }
 ],
 "metadata": {
  "kernelspec": {
   "display_name": "Python 3",
   "language": "python",
   "name": "python3"
  },
  "language_info": {
   "codemirror_mode": {
    "name": "ipython",
    "version": 3
   },
   "file_extension": ".py",
   "mimetype": "text/x-python",
   "name": "python",
   "nbconvert_exporter": "python",
   "pygments_lexer": "ipython3",
   "version": "3.6.3"
  }
 },
 "nbformat": 4,
 "nbformat_minor": 2
}
