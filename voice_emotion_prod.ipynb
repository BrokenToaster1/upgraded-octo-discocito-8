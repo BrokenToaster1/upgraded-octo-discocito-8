{
 "cells": [
  {
   "cell_type": "code",
   "execution_count": 1,
   "metadata": {},
   "outputs": [],
   "source": [
    "import numpy as np\n",
    "import pickle"
   ]
  },
  {
   "cell_type": "code",
   "execution_count": 17,
   "metadata": {
    "collapsed": true
   },
   "outputs": [],
   "source": [
    "def get_emotion(text, model):\n",
    "    \"\"\" Returns a number that describes the emotion of the input text. \n",
    "    \n",
    "        Parameters\n",
    "        ----------\n",
    "        text : string\n",
    "            string representation of the user's spoken words\n",
    "        \n",
    "        model : function\n",
    "            returns the probabilities of sadness and happiness\n",
    "            \n",
    "        Returns\n",
    "        -------\n",
    "        0 if the input text's emotion is sad. 1 if the input text's \n",
    "        emotion is happy. \"\"\"\n",
    "    \n",
    "    return np.argmax(model(text))"
   ]
  },
  {
   "cell_type": "code",
   "execution_count": null,
   "metadata": {
    "collapsed": true
   },
   "outputs": [],
   "source": []
  },
  {
   "cell_type": "code",
   "execution_count": 9,
   "metadata": {},
   "outputs": [],
   "source": [
    "# reset stats\n",
    "\n",
    "with open('/Users/christinaxiao/Christina/COLLEGE/Camps/MIT BWSI/Class/Week 2 - Visual/upgraded-octo-discocito-3/dataface/dataface.dat', mode=\"rb\") as f:\n",
    "    dataface = pickle.load(f)\n",
    "\n",
    "stats = {name:[0, 0] for name in dataface.keys()}\n",
    "\n",
    "with open(\"stats.pkl\", mode=\"wb\") as f:\n",
    "    pickle.dump(stats, f)"
   ]
  },
  {
   "cell_type": "code",
   "execution_count": 10,
   "metadata": {},
   "outputs": [
    {
     "name": "stdout",
     "output_type": "stream",
     "text": [
      "{'Alexey': [0, 0], 'Sam': [0, 0], 'Christina': [0, 0], 'Jenny': [0, 0]}\n"
     ]
    }
   ],
   "source": [
    "with open(\"stats.pkl\", mode=\"rb\") as f:\n",
    "    x = pickle.load(f)\n",
    "    \n",
    "print(x)"
   ]
  }
 ],
 "metadata": {
  "kernelspec": {
   "display_name": "Python [default]",
   "language": "python",
   "name": "python3"
  },
  "language_info": {
   "codemirror_mode": {
    "name": "ipython",
    "version": 3
   },
   "file_extension": ".py",
   "mimetype": "text/x-python",
   "name": "python",
   "nbconvert_exporter": "python",
   "pygments_lexer": "ipython3",
   "version": "3.6.5"
  }
 },
 "nbformat": 4,
 "nbformat_minor": 2
}
