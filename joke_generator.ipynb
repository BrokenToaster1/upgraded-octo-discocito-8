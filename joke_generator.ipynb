{
 "cells": [
  {
   "cell_type": "code",
   "execution_count": 1,
   "metadata": {
    "collapsed": true
   },
   "outputs": [],
   "source": [
    "import numpy as np\n",
    "from collections import Counter\n",
    "from collections import defaultdict"
   ]
  },
  {
   "cell_type": "code",
   "execution_count": 2,
   "metadata": {
    "collapsed": true
   },
   "outputs": [],
   "source": [
    "def normalize(counter):\n",
    "    \"\"\" Converts a letter -> count counter to a list of (letter, \n",
    "    frequency) pairs, sorted in descending order of frequency.\n",
    "    \n",
    "        Parameters\n",
    "        -----------\n",
    "        counter : collections.Counter\n",
    "            letter -> count\n",
    "            \n",
    "        Returns\n",
    "        -------\n",
    "        A list of (letter, frequency) pairs, sorted in descending \n",
    "        order of frequency. \"\"\"\n",
    "\n",
    "    total = sum(counter.values())\n",
    "    return [(char, cnt/total) for char, cnt in counter.most_common()]"
   ]
  },
  {
   "cell_type": "code",
   "execution_count": 3,
   "metadata": {
    "collapsed": true
   },
   "outputs": [],
   "source": [
    "def train_lm(text, n):\n",
    "    \"\"\" Trains a character-based n-gram language model.\n",
    "        \n",
    "        Parameters\n",
    "        -----------\n",
    "        text: str \n",
    "            \n",
    "        n: int\n",
    "            the length of the n-gram to analyze.\n",
    "        \n",
    "        Returns\n",
    "        -------\n",
    "        A dictionary that maps history to a list of tuples that \n",
    "        describes the probability of each following character. \"\"\"\n",
    "    \n",
    "    raw_lm = defaultdict(Counter)\n",
    "    # no padding characters so that generated text starts with different letter combinations\n",
    "    history = text[:n - 1]\n",
    "    \n",
    "    for char in text[n - 1:]:\n",
    "        raw_lm[history][char] += 1\n",
    "        history = history[1:] + char\n",
    "    \n",
    "    lm = {history : normalize(counter) for history, counter in raw_lm.items()}\n",
    "    return lm"
   ]
  },
  {
   "cell_type": "code",
   "execution_count": 4,
   "metadata": {
    "collapsed": true
   },
   "outputs": [],
   "source": [
    "def generate_letter(lm, history):\n",
    "    \"\"\" Randomly generates a letter according to the probability \n",
    "    distribution associated with the specified history.\n",
    "        \n",
    "        Parameters\n",
    "        ----------\n",
    "        lm: Dict[str, List[Tuple[str, float]]] \n",
    "            the n-gram language model. \n",
    "        \n",
    "        history: str\n",
    "            a string of length (n-1) to use as history when generating \n",
    "            the next character.\n",
    "        \n",
    "        Returns\n",
    "        -------\n",
    "        The predicted character. \"\"\"\n",
    "    \n",
    "    if not history in lm:\n",
    "        # returns a random letter\n",
    "        return chr(np.random.randint(97, 97 + 26))\n",
    "    letters, probs = tuple(zip(*lm[history]))\n",
    "    i = np.random.choice(letters, p=probs)\n",
    "    return i"
   ]
  },
  {
   "cell_type": "code",
   "execution_count": 5,
   "metadata": {
    "collapsed": true
   },
   "outputs": [],
   "source": [
    "def generate_phrase(lm, n, total_words = 1):\n",
    "    \"\"\" Randomly generates a phrase by drawing from the probability \n",
    "    distributions stored in the n-gram language model.\n",
    "    \n",
    "        Parameters\n",
    "        ----------\n",
    "        lm: Dict[str, List[Tuple[str, float]]]\n",
    "            the n-gram language model. \n",
    "            \n",
    "        n: int\n",
    "            order of n-gram model.\n",
    "            \n",
    "        total_words : int\n",
    "            the number of words to be generated\n",
    "        \n",
    "        Returns\n",
    "        -------\n",
    "        Model-generated phrase. \"\"\"\n",
    "    \n",
    "    # chooses a random word to start with as history\n",
    "    word_start_hist = [hist for hist in lm.keys() if hist.startswith(' ')]\n",
    "    i = np.random.randint(len(word_start_hist))\n",
    "    history = word_start_hist[i]\n",
    "    \n",
    "    text = []\n",
    "    text.extend(history[1:])\n",
    "    \n",
    "    spaces = 0\n",
    "    \n",
    "    while True:\n",
    "        c = generate_letter(lm, history)\n",
    "        # counts number of words\n",
    "        if c == ' ':\n",
    "            spaces += 1\n",
    "            if spaces == total_words:\n",
    "                break\n",
    "        text.append(c)\n",
    "        history = history[1:] + c\n",
    "        \n",
    "    return \"\".join(text)"
   ]
  },
  {
   "cell_type": "code",
   "execution_count": 6,
   "metadata": {
    "collapsed": true
   },
   "outputs": [],
   "source": [
    "with open(\"nouns.txt\", \"r\") as f:\n",
    "    nouns = f.read()\n",
    "nouns = \" \".join(nouns.split())\n",
    "    \n",
    "with open(\"verbs.txt\", \"r\") as f:\n",
    "    verbs = f.read()\n",
    "verbs = \" \".join(verbs.split())\n",
    "    \n",
    "lm_noun = train_lm(nouns, 5)\n",
    "lm_verb = train_lm(verbs, 5)"
   ]
  },
  {
   "cell_type": "code",
   "execution_count": 7,
   "metadata": {
    "collapsed": true
   },
   "outputs": [],
   "source": [
    "import pickle\n",
    "\n",
    "with open(\"lm_noun.pkl\", mode=\"wb\") as f:\n",
    "    pickle.dump(lm_noun, f)\n",
    "\n",
    "with open(\"lm_verb.pkl\", mode=\"wb\") as f:\n",
    "    pickle.dump(lm_verb, f)"
   ]
  },
  {
   "cell_type": "code",
   "execution_count": 8,
   "metadata": {
    "collapsed": true
   },
   "outputs": [],
   "source": [
    "def n_gram_jokes():\n",
    "    \"\"\" Generates a really funny joke based on a text file of words.\n",
    "                                    \n",
    "        Returns\n",
    "        -------\n",
    "        A really funny joke. \"\"\"\n",
    "    \n",
    "    with open(\"lm_noun.pkl\", mode=\"rb\") as f:\n",
    "        lm_noun = pickle.load(f)\n",
    "        \n",
    "    with open(\"lm_verb.pkl\", mode=\"rb\") as f:\n",
    "        lm_verb = pickle.load(f)\n",
    "        \n",
    "    n = 5\n",
    "    jokes = [\"Knock knock. \\nWho's there? \\n{0} \\n{0} who? \\n{0} {1} \".format(generate_phrase(lm_noun, n, np.random.randint(1, 3)).capitalize(), generate_phrase(lm_noun, n, np.random.randint(1, 3))),                \n",
    "             \"Why did the {} {} the {}? \\nTo {} {}!\".format(generate_phrase(lm_noun, n, np.random.randint(1, 3)), generate_phrase(lm_verb, n), generate_phrase(lm_noun, n, np.random.randint(1, 3)), generate_phrase(lm_verb, n), generate_phrase(lm_noun, n, np.random.randint(1, 3))),\n",
    "             \"*slaps roof of {0}* \\nThis {0} can fit so much {1} in it\".format(generate_phrase(lm_noun, n), generate_phrase(lm_noun, n)),\n",
    "             \"Thank you {} very {}\".format(generate_phrase(lm_noun, n, np.random.randint(1, 3)), generate_phrase(lm_noun, n, np.random.randint(1, 3)))]    \n",
    "    i = np.random.randint(len(jokes))    \n",
    "    return jokes[i]"
   ]
  },
  {
   "cell_type": "code",
   "execution_count": 20,
   "metadata": {
    "scrolled": false
   },
   "outputs": [
    {
     "name": "stdout",
     "output_type": "stream",
     "text": [
      "Knock knock. \n",
      "Who's there? \n",
      "Real \n",
      "Real who? \n",
      "Real on-demand \n"
     ]
    }
   ],
   "source": [
    "print(n_gram_jokes())"
   ]
  }
 ],
 "metadata": {
  "kernelspec": {
   "display_name": "Python 3",
   "language": "python",
   "name": "python3"
  },
  "language_info": {
   "codemirror_mode": {
    "name": "ipython",
    "version": 3
   },
   "file_extension": ".py",
   "mimetype": "text/x-python",
   "name": "python",
   "nbconvert_exporter": "python",
   "pygments_lexer": "ipython3",
   "version": "3.6.3"
  }
 },
 "nbformat": 4,
 "nbformat_minor": 2
}
