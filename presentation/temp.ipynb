{
 "cells": [
  {
   "cell_type": "code",
   "execution_count": 1,
   "metadata": {},
   "outputs": [
    {
     "name": "stdout",
     "output_type": "stream",
     "text": [
      "File already exists:\n",
      "\t/Users/Jenny/Desktop/BWSI WORK/DlibModels/dlib_models/dlib_face_recognition_resnet_model_v1.dat\n",
      "File already exists:\n",
      "\t/Users/Jenny/Desktop/BWSI WORK/DlibModels/dlib_models/shape_predictor_68_face_landmarks.dat\n"
     ]
    }
   ],
   "source": [
    "# Based on https://docs.opencv.org/3.0-beta/doc/py_tutorials/py_gui/py_video_display/py_video_display.html \n",
    "\n",
    "from face_recognizer.faceID import faceID\n",
    "from face_recognizer.emotion_detection import create_model, emotionID\n",
    "from face_recognizer.camera_to_image_array import camera_to_image_array as cam\n",
    "from face_recognizer.dataface_funcs import dataface_add\n",
    "from face_recognizer.getting_name_dataface import match_descriptor_in_dataface as lookup\n",
    "from face_recognizer.image_array_to_descriptors import load_dlib as load\n",
    "from face_recognizer.image_array_to_descriptors import match_image_to_descriptors as match\n",
    "from face_recognizer.dataface_funcs import pickOpen\n",
    "import numpy as np\n",
    "import cv2\n",
    "\n",
    "dataface = pickOpen(\"/Users/Jenny/Desktop/BWSI WORK/upgraded-octo-discocito-3/dataface/dataface.dat\")\n",
    "face_detect, face_rec_model, shape_predictor = load()\n",
    "emotion_model = create_model(\"/Users/Jenny/Desktop/BWSI WORK/upgraded-octo-discocito-8/emotion_net_parameters.dat\")"
   ]
  },
  {
   "cell_type": "code",
   "execution_count": 2,
   "metadata": {},
   "outputs": [
    {
     "ename": "AssertionError",
     "evalue": "Only 1 face is supported at this time.",
     "output_type": "error",
     "traceback": [
      "\u001b[0;31m---------------------------------------------------------------------------\u001b[0m",
      "\u001b[0;31mAssertionError\u001b[0m                            Traceback (most recent call last)",
      "\u001b[0;32m<ipython-input-2-037f64b23535>\u001b[0m in \u001b[0;36m<module>\u001b[0;34m()\u001b[0m\n\u001b[1;32m      9\u001b[0m     \u001b[0mnames\u001b[0m \u001b[0;34m=\u001b[0m \u001b[0mlookup\u001b[0m\u001b[0;34m(\u001b[0m\u001b[0mdataface\u001b[0m\u001b[0;34m,\u001b[0m \u001b[0mout\u001b[0m\u001b[0;34m)\u001b[0m\u001b[0;34m\u001b[0m\u001b[0m\n\u001b[1;32m     10\u001b[0m     \u001b[0max\u001b[0m \u001b[0;34m=\u001b[0m \u001b[0mfaceID\u001b[0m\u001b[0;34m(\u001b[0m\u001b[0mframe\u001b[0m\u001b[0;34m,\u001b[0m \u001b[0mrect\u001b[0m\u001b[0;34m,\u001b[0m \u001b[0mnames\u001b[0m\u001b[0;34m)\u001b[0m\u001b[0;34m\u001b[0m\u001b[0m\n\u001b[0;32m---> 11\u001b[0;31m     \u001b[0memotion\u001b[0m \u001b[0;34m=\u001b[0m \u001b[0memotionID\u001b[0m\u001b[0;34m(\u001b[0m\u001b[0mframe\u001b[0m\u001b[0;34m,\u001b[0m \u001b[0max\u001b[0m\u001b[0;34m,\u001b[0m \u001b[0mface_detect\u001b[0m\u001b[0;34m,\u001b[0m \u001b[0mshape_predictor\u001b[0m\u001b[0;34m,\u001b[0m \u001b[0memotion_model\u001b[0m\u001b[0;34m)\u001b[0m\u001b[0;34m\u001b[0m\u001b[0m\n\u001b[0m\u001b[1;32m     12\u001b[0m \u001b[0;34m\u001b[0m\u001b[0m\n\u001b[1;32m     13\u001b[0m     \u001b[0;31m# Quit by pressing 'q'\u001b[0m\u001b[0;34m\u001b[0m\u001b[0;34m\u001b[0m\u001b[0m\n",
      "\u001b[0;32m~/Desktop/BWSI WORK/upgraded-octo-discocito-3/face_recognizer/emotion_detection.py\u001b[0m in \u001b[0;36memotionID\u001b[0;34m(pic, ax, face_detect, shape_predictor, emotion_detect)\u001b[0m\n\u001b[1;32m     62\u001b[0m \u001b[0;34m\u001b[0m\u001b[0m\n\u001b[1;32m     63\u001b[0m     \u001b[0mdetections\u001b[0m \u001b[0;34m=\u001b[0m \u001b[0mlist\u001b[0m\u001b[0;34m(\u001b[0m\u001b[0mface_detect\u001b[0m\u001b[0;34m(\u001b[0m\u001b[0mpic\u001b[0m\u001b[0;34m)\u001b[0m\u001b[0;34m)\u001b[0m\u001b[0;34m\u001b[0m\u001b[0m\n\u001b[0;32m---> 64\u001b[0;31m     \u001b[0;32massert\u001b[0m \u001b[0mlen\u001b[0m\u001b[0;34m(\u001b[0m\u001b[0mdetections\u001b[0m\u001b[0;34m)\u001b[0m \u001b[0;34m==\u001b[0m \u001b[0;36m1\u001b[0m\u001b[0;34m,\u001b[0m \u001b[0;34m'Only 1 face is supported at this time.'\u001b[0m\u001b[0;34m\u001b[0m\u001b[0m\n\u001b[0m\u001b[1;32m     65\u001b[0m \u001b[0;34m\u001b[0m\u001b[0m\n\u001b[1;32m     66\u001b[0m     \u001b[0mnew_labels\u001b[0m \u001b[0;34m=\u001b[0m \u001b[0;34m[\u001b[0m\u001b[0;34m\"sad\"\u001b[0m\u001b[0;34m,\u001b[0m \u001b[0;34m\"neutral\"\u001b[0m\u001b[0;34m,\u001b[0m \u001b[0;34m\"happy\"\u001b[0m\u001b[0;34m]\u001b[0m\u001b[0;34m\u001b[0m\u001b[0m\n",
      "\u001b[0;31mAssertionError\u001b[0m: Only 1 face is supported at this time."
     ]
    },
    {
     "data": {
      "image/png": "[encoded data removed]",
      "text/plain": [
       "<Figure size 432x288 with 1 Axes>"
      ]
     },
     "metadata": {},
     "output_type": "display_data"
    }
   ],
   "source": [
    "cap = cv2.VideoCapture(0)\n",
    "\n",
    "while(True):\n",
    "    # Capture frame-by-frame\n",
    "    ret, frame = cap.read()\n",
    "\n",
    "    # Proccess the frame\n",
    "    out, rect = match(face_detect, face_rec_model, shape_predictor, frame)\n",
    "    names = lookup(dataface, out)\n",
    "    ax = faceID(frame, rect, names)\n",
    "    #emotion = emotionID(frame, ax, face_detect, shape_predictor, emotion_model)\n",
    "\n",
    "    # Display the resulting frame\n",
    "    cv2.imshow('frame', frame)\n",
    "    \n",
    "    # Quit by pressing 'q'\n",
    "    if cv2.waitKey(1) & 0xFF == ord('q'):\n",
    "        break\n",
    "\n",
    "# When everything is done, release the capture\n",
    "cap.release()\n",
    "cv2.destroyAllWindows()"
   ]
  },
  {
   "cell_type": "code",
   "execution_count": null,
   "metadata": {},
   "outputs": [],
   "source": []
  }
 ],
 "metadata": {
  "kernelspec": {
   "display_name": "Python [conda env:env2]",
   "language": "python",
   "name": "conda-env-env2-py"
  }
 },
 "nbformat": 4,
 "nbformat_minor": 2
}
