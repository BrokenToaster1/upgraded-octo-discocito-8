{
 "cells": [
  {
   "cell_type": "code",
   "execution_count": 1,
   "metadata": {
    "collapsed": true
   },
   "outputs": [],
   "source": [
    "import numpy as np\n",
    "from collections import Counter\n",
    "from collections import defaultdict\n",
    "import pickle"
   ]
  },
  {
   "cell_type": "code",
   "execution_count": 2,
   "metadata": {
    "collapsed": true
   },
   "outputs": [],
   "source": [
    "def normalize(counter):\n",
    "    \"\"\" Converts a letter -> count counter to a list of (letter, \n",
    "    frequency) pairs, sorted in descending order of frequency.\n",
    "    \n",
    "        Parameters\n",
    "        -----------\n",
    "        counter : collections.Counter\n",
    "            letter -> count\n",
    "            \n",
    "        Returns\n",
    "        -------\n",
    "        A list of (letter, frequency) pairs, sorted in descending \n",
    "        order of frequency. \"\"\"\n",
    "\n",
    "    total = sum(counter.values())\n",
    "    return [(char, cnt/total) for char, cnt in counter.most_common()]"
   ]
  },
  {
   "cell_type": "code",
   "execution_count": 3,
   "metadata": {
    "collapsed": true
   },
   "outputs": [],
   "source": [
    "def train_lm(text, n):\n",
    "    \"\"\" Trains a character-based n-gram language model.\n",
    "        \n",
    "        Parameters\n",
    "        -----------\n",
    "        text: str \n",
    "            \n",
    "        n: int\n",
    "            the length of the n-gram to analyze.\n",
    "        \n",
    "        Returns\n",
    "        -------\n",
    "        A dictionary that maps history to a list of tuples that \n",
    "        describes the probability of each following character. \"\"\"\n",
    "    \n",
    "    raw_lm = defaultdict(Counter)\n",
    "    # no padding characters so that generated text starts with different letter combinations\n",
    "    history = text[:n - 1]\n",
    "    \n",
    "    for char in text[n - 1:]:\n",
    "        raw_lm[history][char] += 1\n",
    "        history = history[1:] + char\n",
    "    \n",
    "    lm = {history : normalize(counter) for history, counter in raw_lm.items()}\n",
    "    return lm"
   ]
  },
  {
   "cell_type": "code",
   "execution_count": 4,
   "metadata": {
    "collapsed": true
   },
   "outputs": [],
   "source": [
    "def generate_letter(lm, history):\n",
    "    \"\"\" Randomly generates a letter according to the probability \n",
    "    distribution associated with the specified history.\n",
    "        \n",
    "        Parameters\n",
    "        ----------\n",
    "        lm: Dict[str, List[Tuple[str, float]]] \n",
    "            the n-gram language model. \n",
    "        \n",
    "        history: str\n",
    "            a string of length (n-1) to use as history when generating \n",
    "            the next character.\n",
    "        \n",
    "        Returns\n",
    "        -------\n",
    "        The predicted character. \"\"\"\n",
    "    \n",
    "    if not history in lm:\n",
    "        # ends sentence\n",
    "        return '\\n'\n",
    "    letters, probs = tuple(zip(*lm[history]))\n",
    "    i = np.random.choice(letters, p=probs)\n",
    "    return i"
   ]
  },
  {
   "cell_type": "code",
   "execution_count": 5,
   "metadata": {
    "collapsed": true
   },
   "outputs": [],
   "source": [
    "def generate_sentence(lm, n):\n",
    "    \"\"\" Randomly generates a sentence by drawing from the probability \n",
    "    distributions stored in the n-gram language model.\n",
    "    \n",
    "        Parameters\n",
    "        ----------\n",
    "        lm: Dict[str, List[Tuple[str, float]]]\n",
    "            the n-gram language model. \n",
    "            \n",
    "        n: int\n",
    "            order of n-gram model.\n",
    "            \n",
    "        Returns\n",
    "        -------\n",
    "        Model-generated sentence. \"\"\"\n",
    "    \n",
    "    # chooses a random word to start with as history\n",
    "    word_start_hist = [hist for hist in lm.keys() if hist.startswith(' ')]\n",
    "    i = np.random.randint(len(word_start_hist))\n",
    "    history = word_start_hist[i]\n",
    "    \n",
    "    sentence = []\n",
    "    sentence.extend(history[1:])\n",
    "    \n",
    "    spaces = 0\n",
    "    \n",
    "    while True:\n",
    "        c = generate_letter(lm, history)\n",
    "        if c == '\\n':\n",
    "            break\n",
    "        sentence.append(c)\n",
    "        history = history[1:] + c\n",
    "        \n",
    "    out = \"\".join(sentence)\n",
    "    return out[0].capitalize() + out[1:]"
   ]
  },
  {
   "cell_type": "code",
   "execution_count": 6,
   "metadata": {
    "collapsed": true
   },
   "outputs": [],
   "source": [
    "with open(\"sentences.txt\", \"r\") as f:\n",
    "    sents = f.read()"
   ]
  },
  {
   "cell_type": "code",
   "execution_count": 7,
   "metadata": {},
   "outputs": [],
   "source": [
    "lm = train_lm(sents, 7)"
   ]
  },
  {
   "cell_type": "code",
   "execution_count": 8,
   "metadata": {},
   "outputs": [],
   "source": [
    "with open(\"sents.pkl\", \"wb\") as f:\n",
    "    pickle.dump(lm, f)"
   ]
  },
  {
   "cell_type": "code",
   "execution_count": 9,
   "metadata": {
    "collapsed": true
   },
   "outputs": [],
   "source": [
    "def choose(*choices):\n",
    "    i = np.random.randint(len(choices))\n",
    "    return choices[i]"
   ]
  },
  {
   "cell_type": "code",
   "execution_count": 10,
   "metadata": {
    "collapsed": true
   },
   "outputs": [],
   "source": [
    "def rand(l):\n",
    "    return l[np.random.randint(len(l))]"
   ]
  },
  {
   "cell_type": "code",
   "execution_count": 11,
   "metadata": {
    "collapsed": true
   },
   "outputs": [],
   "source": [
    "def generate_meme():\n",
    "    with open(\"nouns.txt\", \"r\") as f:\n",
    "        nouns = f.read()\n",
    "    nouns = list(set(nouns.split()))\n",
    "\n",
    "    with open(\"verbs.txt\", \"r\") as f:\n",
    "        verbs = f.read()\n",
    "    verbs = list(set(verbs.split()))\n",
    "\n",
    "    with open(\"adjs.txt\", \"r\") as f:\n",
    "        adjs = f.read()\n",
    "    adjs = list(set(adjs.split()))\n",
    "    \n",
    "    with open(\"names.txt\", \"r\") as f:\n",
    "        names = f.read()\n",
    "    names = list(set(names.split('\\n')))\n",
    "    \n",
    "    with open(\"sents.pkl\", \"rb\") as f:\n",
    "        lm = pickle.load(f)\n",
    "            \n",
    "    pronouns = [\"him\", \"her\"]\n",
    "    \n",
    "    jokes = [\"*slaps roof of {0}*. \\nThis {0} can fit so much {1} {2} in it.\".format(rand(nouns), rand(adjs), rand(nouns)),\n",
    "             \"Thank you {} very {}.\".format(rand(names), rand(adjs)),\n",
    "             \"This is so {} Alexa play {}.\".format(rand(adjs), choose(rand(nouns).capitalize(), rand(adjs).capitalize(), rand(verbs).capitalize(), rand(adjs).capitalize() + ' ' + rand(nouns).capitalize())),\n",
    "             \"Dad, why is my sister's name {0} {1}? \\nBecause your mother loves {0} {1}. \\nThanks Dad. \\nNo problem {2}.\".format(rand(adjs).capitalize(), rand(nouns).capitalize(), rand(nouns).capitalize()),\n",
    "             \"{} announces {} {}. \\n{} rate drops to 0%.\".format(choose(rand(nouns).capitalize(), rand(names)), rand(nouns).capitalize(), str(np.random.randint(1, 11)), rand(nouns).capitalize()),\n",
    "             \"{} are now statistically more popular than {}.\".format((rand(nouns) + 's').capitalize(), rand(nouns) + 's'),\n",
    "             \"You can't {0} a {1} if you don't {2} a {1}.\".format(rand(verbs), rand(nouns), rand(verbs)),\n",
    "             \"Little known fact: \\n{} was invented in {} by {} when he tried to {} twice at the same time.\".format(choose(rand(verbs).capitalize() + 'ing', rand(nouns).capitalize()), str(np.random.randint(1200, 2019)), rand(names), rand(verbs)),\n",
    "             \"{} is just {}. \\nChange my mind.\".format(choose(rand(verbs) + 'ing', rand(nouns)), choose(rand(verbs) + 'ing', rand(nouns), rand(adjs))),\n",
    "             \"@Google {} \\nDad: Why is the FBI here?\".format(generate_sentence(lm, 7)),\n",
    "             \"{} {} is the most ambitious crossover event in history.\".format(rand(adjs).capitalize(), rand(nouns).capitalize()),\n",
    "             'When {} said \"{},\" I felt that.'.format(rand(names), choose(rand(adjs) + ' ' + rand(nouns), rand(nouns) + 's ' + rand(verbs), rand(adjs) + ' ' + rand(nouns) + 's ' + rand(verbs), generate_sentence(lm, 7))),\n",
    "             \"You: {} \\nMe, an intellectual: {}\".format(generate_sentence(lm, 7), generate_sentence(lm, 7)),\n",
    "             \"Petition: Make {} {}. 6,953 have signed. Let's get to 7,500!\".format(rand(nouns) + 's', rand(verbs)),\n",
    "             \"Is it normal to {} your {}? \\n{} wants to know your location.\".format(rand(verbs), rand(nouns), rand(names)),\n",
    "             \"Who would win? \\n{} {}. \\nOne {} boi.\".format(str(np.random.randint(1000, 10000)), rand(nouns) + 's', rand(adjs)),\n",
    "             \"You wouldn't {} a {}.\".format(rand(verbs), rand(nouns)),\n",
    "             \"Her: He's probably thinking about other girls. \\nHim: {}\".format(generate_sentence(lm, 7)),\n",
    "             \"{} \\n-{}\".format(generate_sentence(lm, 7), rand(names))]\n",
    "    i = np.random.randint(len(jokes))    \n",
    "    return jokes[i]\n"
   ]
  },
  {
   "cell_type": "code",
   "execution_count": 30,
   "metadata": {
    "scrolled": true
   },
   "outputs": [
    {
     "name": "stdout",
     "output_type": "stream",
     "text": [
      "*slaps roof of mist*. \n",
      "This mist can fit so much macho basketball in it.\n"
     ]
    }
   ],
   "source": [
    "print(generate_meme())"
   ]
  }
 ],
 "metadata": {
  "kernelspec": {
   "display_name": "Python 3",
   "language": "python",
   "name": "python3"
  },
  "language_info": {
   "codemirror_mode": {
    "name": "ipython",
    "version": 3
   },
   "file_extension": ".py",
   "mimetype": "text/x-python",
   "name": "python",
   "nbconvert_exporter": "python",
   "pygments_lexer": "ipython3",
   "version": "3.6.3"
  }
 },
 "nbformat": 4,
 "nbformat_minor": 2
}
